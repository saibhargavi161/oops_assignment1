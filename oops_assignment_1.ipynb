{
 "cells": [
  {
   "cell_type": "markdown",
   "id": "0e43d6eb-882b-494a-a6c3-b56b5b41d17b",
   "metadata": {},
   "source": [
    "Problem 1:Bank Account\n",
    "\n",
    "Create a class representing a bank account with attributes like account number, account holder name, and balance. Implement methods to deposit and withdraw money from the account.\n"
   ]
  },
  {
   "cell_type": "code",
   "execution_count": 5,
   "id": "5274e34a-e63a-4289-8dbe-a3046a3186c5",
   "metadata": {},
   "outputs": [
    {
     "name": "stdout",
     "output_type": "stream",
     "text": [
      "deposited amount into current balance is 3000\n",
      "withdraw account from current balance 2500\n"
     ]
    }
   ],
   "source": [
    "class bankaccount:\n",
    "    def __init__(self,account_number,account_holder_name,balance=0):\n",
    "        self.account_number=account_number\n",
    "        self.account_holder_name=account_holder_name\n",
    "        self.balance=balance\n",
    "    def deposit(self,amount):\n",
    "        if amount>0:\n",
    "            self.balance+=amount\n",
    "            print(\"deposited amount into current balance is\",self.balance)\n",
    "        else:\n",
    "            print(\"deposited amount should be greater than zero\")\n",
    "    def withdraw(self,amount):\n",
    "        if 0<amount<self.balance:\n",
    "            self.balance-=amount\n",
    "            print(\"withdraw account from current balance\",self.balance)\n",
    "        else:\n",
    "            print(\"withdraw amount should be greater than 0 and less than balance\")\n",
    "account=bankaccount(242424,\"bhargavi\",2000)\n",
    "account.deposit(1000)\n",
    "account.withdraw(500)"
   ]
  },
  {
   "cell_type": "markdown",
   "id": "bbe67524-d134-4143-8e24-5216fc6bd088",
   "metadata": {},
   "source": [
    "\n",
    "Problem 2: Employee Management\n",
    "\n",
    "Create a class representing an employee with attributes like employee ID, name, and salary. Implement methods to calculate the yearly bonus and display employee details."
   ]
  },
  {
   "cell_type": "code",
   "execution_count": 13,
   "id": "f9625bac-7c0f-4065-b17b-467f63baddbd",
   "metadata": {},
   "outputs": [
    {
     "name": "stdout",
     "output_type": "stream",
     "text": [
      "employee id: 242321\n",
      "name: sai\n",
      "salary: 50000\n",
      "bonus: 5000.0\n"
     ]
    }
   ],
   "source": [
    "class employee:\n",
    "    def __init__(self,employee_id,name,salary):\n",
    "        self.employee_id=employee_id\n",
    "        self.name=name\n",
    "        self.salary=salary\n",
    "    def calculate_yearly_bonus(self,bonus_percentage):\n",
    "        bonus = (bonus_percentage / 100) * self.salary\n",
    "        return bonus\n",
    "    def employee_details(self):\n",
    "        print(\"employee id:\",self.employee_id)\n",
    "        print(\"name:\",self.name)\n",
    "        print(\"salary:\",self.salary)\n",
    "ee=employee(242321,\"sai\",50000)\n",
    "ee.employee_details()\n",
    "bonus_percentage=10\n",
    "yearly_bonus=ee.calculate_yearly_bonus(bonus_percentage)\n",
    "print(\"bonus:\",yearly_bonus)"
   ]
  },
  {
   "cell_type": "markdown",
   "id": "35e1b396-a1f0-4d63-90b4-061bd77c5e88",
   "metadata": {},
   "source": [
    "Problem 3: Vehicle Rental \n",
    "\n",
    "Create a class representing a vehicle rental system. Implement methods to rent a vehicle, return a vehicle, and display available vehicles.\n"
   ]
  },
  {
   "cell_type": "code",
   "execution_count": 17,
   "id": "f9828647-db0e-48de-b3c4-fa04d4a927fa",
   "metadata": {},
   "outputs": [
    {
     "name": "stdout",
     "output_type": "stream",
     "text": [
      "Available Vehicles:\n",
      "Vehicle1\n",
      "Vehicle2\n",
      "Vehicle1 is rented successfully.\n",
      "Vehicle2 is rented successfully.\n",
      "Vehicle3 is not available for rent.\n",
      "No vehicles available for rent.\n",
      "Vehicle1 is returned successfully.\n",
      "Vehicle2 is returned successfully.\n",
      "Available Vehicles:\n",
      "Vehicle1\n",
      "Vehicle2\n"
     ]
    }
   ],
   "source": [
    "class VehicleRentalSystem:\n",
    "    def __init__(self):\n",
    "        self.vehicles = {}\n",
    "    def rent_vehicle(self, vehicle_id):\n",
    "        if vehicle_id in self.vehicles and self.vehicles[vehicle_id]:\n",
    "            print(vehicle_id,\"is rented successfully.\")\n",
    "            self.vehicles[vehicle_id] = False\n",
    "        else:\n",
    "            print(vehicle_id,\"is not available for rent.\")\n",
    "    def return_vehicle(self, vehicle_id):\n",
    "        if vehicle_id in self.vehicles and not self.vehicles[vehicle_id]:\n",
    "            print(vehicle_id,\"is returned successfully.\")\n",
    "            self.vehicles[vehicle_id] = True\n",
    "        else:\n",
    "            print(vehicle_id,\"is not returned.\")\n",
    "    def display_available_vehicles(self):\n",
    "        available_vehicles = [vehicle_id for vehicle_id, availability in self.vehicles.items() if availability]\n",
    "        if available_vehicles:\n",
    "            print(\"Available Vehicles:\")\n",
    "            for vehicle_id in available_vehicles:\n",
    "                print(vehicle_id)\n",
    "        else:\n",
    "            print(\"No vehicles available for rent.\")\n",
    "# Example usage:\n",
    "rental_system = VehicleRentalSystem()\n",
    "rental_system.vehicles = {\"Vehicle1\": True, \"Vehicle2\": True, \"Vehicle3\": False}\n",
    "\n",
    "rental_system.display_available_vehicles()\n",
    "\n",
    "rental_system.rent_vehicle(\"Vehicle1\")\n",
    "rental_system.rent_vehicle(\"Vehicle2\")\n",
    "rental_system.rent_vehicle(\"Vehicle3\")\n",
    "\n",
    "rental_system.display_available_vehicles()\n",
    "\n",
    "rental_system.return_vehicle(\"Vehicle1\")\n",
    "rental_system.return_vehicle(\"Vehicle2\")\n",
    "\n",
    "rental_system.display_available_vehicles()\n"
   ]
  },
  {
   "cell_type": "markdown",
   "id": "56e690ff-8900-4b2c-919f-775d06c56369",
   "metadata": {},
   "source": [
    "Problem 4: Library Catalog \n",
    "\n",
    "Create classes representing a library and a book. Implement methods to add books to the library, borrow books, and display available books.\n"
   ]
  },
  {
   "cell_type": "code",
   "execution_count": 1,
   "id": "d0e810a1-2818-4e47-a122-3b95b3569371",
   "metadata": {},
   "outputs": [
    {
     "name": "stdout",
     "output_type": "stream",
     "text": [
      "Available Books:\n",
      "ID: B001, Title: 'The Great Gatsby', Author: F. Scott Fitzgerald\n",
      "ID: B002, Title: 'To Kill a Mockingbird', Author: Harper Lee\n",
      "ID: B003, Title: '1984', Author: George Orwell\n",
      "Book 'The Great Gatsby' by F. Scott Fitzgerald borrowed successfully.\n",
      "Book 'To Kill a Mockingbird' by Harper Lee borrowed successfully.\n",
      "Book '1984' by George Orwell borrowed successfully.\n",
      "No books available in the library.\n"
     ]
    }
   ],
   "source": [
    "class Book:\n",
    "    def __init__(self, book_id, title, author):\n",
    "        self.book_id = book_id\n",
    "        self.title = title\n",
    "        self.author = author\n",
    "        self.available = True\n",
    "class Library:\n",
    "    def __init__(self):\n",
    "        self.books = []\n",
    "    def add_book(self, book_id, title, author):\n",
    "        new_book = Book(book_id, title, author)\n",
    "        self.books.append(new_book)\n",
    "    def borrow_book(self, book_id):\n",
    "        for book in self.books:\n",
    "            if book.book_id == book_id and book.available:\n",
    "                book.available = False\n",
    "                print(f\"Book '{book.title}' by {book.author} borrowed successfully.\")\n",
    "                return\n",
    "        print(f\"Book with ID {book_id} is either unavailable or does not exist in the library.\")\n",
    "    def display_available_books(self):\n",
    "        available_books = [book for book in self.books if book.available]\n",
    "        if available_books:\n",
    "            print(\"Available Books:\")\n",
    "            for book in available_books:\n",
    "                print(f\"ID: {book.book_id}, Title: '{book.title}', Author: {book.author}\")\n",
    "        else:\n",
    "            print(\"No books available in the library.\")\n",
    "\n",
    "# Example usage:\n",
    "library = Library()\n",
    "library.add_book(\"B001\", \"The Great Gatsby\", \"F. Scott Fitzgerald\")\n",
    "library.add_book(\"B002\", \"To Kill a Mockingbird\", \"Harper Lee\")\n",
    "library.add_book(\"B003\", \"1984\", \"George Orwell\")\n",
    "\n",
    "library.display_available_books()\n",
    "\n",
    "library.borrow_book(\"B001\")\n",
    "library.borrow_book(\"B002\")\n",
    "library.borrow_book(\"B003\")\n",
    "\n",
    "library.display_available_books()\n"
   ]
  },
  {
   "cell_type": "markdown",
   "id": "f7f1316b-535f-4774-91a9-dd1db0c40ebb",
   "metadata": {},
   "source": [
    "Problem 5: Product Inventory \n",
    "\n",
    "Create classes representing a product and an inventory system. Implement methods to add products to the inventory, update product quantity, and display available products.\n"
   ]
  },
  {
   "cell_type": "code",
   "execution_count": 6,
   "id": "ba999489-5e26-4f0d-8d0f-62d98666edd8",
   "metadata": {},
   "outputs": [
    {
     "name": "stdout",
     "output_type": "stream",
     "text": [
      "Available Products:\n",
      "Laptop - Price: $999 - Quantity: 10 - Quantity: 5\n",
      "Phone - Price: $599 - Quantity: 20 - Quantity: 10\n",
      "Available Products:\n",
      "Laptop - Price: $999 - Quantity: 10 - Quantity: 15\n",
      "Phone - Price: $599 - Quantity: 20 - Quantity: 10\n"
     ]
    }
   ],
   "source": [
    "class Product:\n",
    "    def __init__(self, name, price, quantity):\n",
    "        self.name = name\n",
    "        self.price = price\n",
    "        self.quantity = quantity\n",
    "\n",
    "    def update_quantity(self, new_quantity):\n",
    "        self.quantity = new_quantity\n",
    "\n",
    "    def __str__(self):\n",
    "        return f\"{self.name} - Price: ${self.price} - Quantity: {self.quantity}\"\n",
    "\n",
    "\n",
    "class Inventory:\n",
    "    def __init__(self):\n",
    "        self.products = {}\n",
    "\n",
    "    def add_product(self, product, quantity):\n",
    "        if product in self.products:\n",
    "            self.products[product] += quantity\n",
    "        else:\n",
    "            self.products[product] = quantity\n",
    "\n",
    "    def update_product_quantity(self, product, new_quantity):\n",
    "        if product in self.products:\n",
    "            self.products[product] = new_quantity\n",
    "        else:\n",
    "            print(\"Product not found in inventory.\")\n",
    "\n",
    "    def display_products(self):\n",
    "        if not self.products:\n",
    "            print(\"Inventory is empty.\")\n",
    "        else:\n",
    "            print(\"Available Products:\")\n",
    "            for product, quantity in self.products.items():\n",
    "                print(f\"{product} - Quantity: {quantity}\")\n",
    "\n",
    "\n",
    "# Usage example:\n",
    "# Create products\n",
    "product1 = Product(\"Laptop\", 999, 10)\n",
    "product2 = Product(\"Phone\", 599, 20)\n",
    "\n",
    "# Create inventory\n",
    "inventory = Inventory()\n",
    "\n",
    "# Add products to inventory\n",
    "inventory.add_product(product1, 5)\n",
    "inventory.add_product(product2, 10)\n",
    "\n",
    "# Display available products\n",
    "inventory.display_products()\n",
    "\n",
    "# Update product quantity\n",
    "inventory.update_product_quantity(product1, 15)\n",
    "\n",
    "# Display updated available products\n",
    "inventory.display_products()\n"
   ]
  },
  {
   "cell_type": "markdown",
   "id": "874b8fae-ee37-4dd4-831f-4ccfe82fbcfb",
   "metadata": {},
   "source": [
    "Problem 6: Shape Calculation\n",
    "\n",
    "Create a class representing a shape with attributes like length, width, and height. Implement methods to calculate the area and perimeter of the shape."
   ]
  },
  {
   "cell_type": "code",
   "execution_count": 11,
   "id": "381bc60b-c55d-4e8b-a247-7301d9f71dea",
   "metadata": {},
   "outputs": [
    {
     "name": "stdout",
     "output_type": "stream",
     "text": [
      "area of rectangle: 8\n",
      "perimeter of rectangle: 12\n",
      "area of square: 16\n",
      "perimeter of square: 16\n",
      "area of triangle: 6.0\n",
      "perimeter of triangle: 12\n"
     ]
    }
   ],
   "source": [
    "class shape:\n",
    "    def __init__(self,length=0,width=0,height=0):\n",
    "        self.length=length\n",
    "        self.width=width\n",
    "        self.height=height\n",
    "    def area(self):\n",
    "        pass\n",
    "    def perimeter(self):\n",
    "        pass\n",
    "class rectangle(shape):\n",
    "    def area(self):\n",
    "        return self.length*self.width\n",
    "    def perimeter(self):\n",
    "        return 2*(self.length+self.width)\n",
    "class square(shape):\n",
    "    def area(self):\n",
    "        return self.length*self.length\n",
    "    def perimeter(self):\n",
    "        return 4*self.length\n",
    "class triangle(shape):\n",
    "    def area(self):\n",
    "        return 0.5*self.length*self.height\n",
    "    def perimeter(self):\n",
    "        return 3*self.length\n",
    "RR=rectangle(length=4,width=2)\n",
    "print(\"area of rectangle:\",RR.area())\n",
    "print(\"perimeter of rectangle:\",RR.perimeter())\n",
    "SS=square(length=4)\n",
    "print(\"area of square:\",SS.area())\n",
    "print(\"perimeter of square:\",SS.perimeter())\n",
    "TT=triangle(length=4,height=3)\n",
    "print(\"area of triangle:\",TT.area())\n",
    "print(\"perimeter of triangle:\",TT.perimeter())"
   ]
  },
  {
   "cell_type": "markdown",
   "id": "e314c344-b27a-4266-8a68-9e9861f685b7",
   "metadata": {},
   "source": [
    "Problem 7: Student Management\n",
    "\n",
    "Create a class representing a student with attributes like student ID, name, and grades. Implement methods to calculate the average grade and display student details.\n"
   ]
  },
  {
   "cell_type": "code",
   "execution_count": 36,
   "id": "0e52f415-fa59-4475-a3aa-8b724a619db1",
   "metadata": {},
   "outputs": [
    {
     "name": "stdout",
     "output_type": "stream",
     "text": [
      "average grade: 70.0\n",
      "display student details:\n",
      "studentid: 2\n",
      "name: sai\n",
      "grades: 70,80,90,40\n",
      "average grade: 0\n",
      "display student details:\n",
      "studentid: 3\n",
      "name: mahi\n",
      "no grades are available\n"
     ]
    }
   ],
   "source": [
    "class student:\n",
    "    def __init__(self,student_id,name,grade=[]):\n",
    "        self.student_id=student_id\n",
    "        self.name=name\n",
    "        self.grade=grade\n",
    "    def averagegrade(self):\n",
    "        if not self.grade:\n",
    "            return 0\n",
    "        return sum(self.grade)/len(self.grade)\n",
    "    def display_student_details(self):\n",
    "        print(\"studentid:\",self.student_id)\n",
    "        print(\"name:\",self.name)\n",
    "        if not self.grade:\n",
    "            print(\"no grades are available\")\n",
    "        else:\n",
    "            print(\"grades:\",','.join(str(grade) for grade in self.grade))    \n",
    "sai=student(student_id=2,name=\"sai\",grade=[70,80,90,40])\n",
    "print(\"average grade:\",sai.averagegrade())\n",
    "print(\"display student details:\")\n",
    "sai.display_student_details()\n",
    "mahi=student(student_id=3,name=\"mahi\")\n",
    "print(\"average grade:\",mahi.averagegrade())\n",
    "print(\"display student details:\")\n",
    "mahi.display_student_details()"
   ]
  },
  {
   "cell_type": "markdown",
   "id": "935143df-5333-4912-be89-c13e48c9beb0",
   "metadata": {},
   "source": [
    "Problem 8: Email Management \n",
    "\n",
    "Create a class representing an email with attributes like sender, recipient, and subject. Implement methods to send an email and display email details."
   ]
  },
  {
   "cell_type": "code",
   "execution_count": 43,
   "id": "5718330a-05dd-4158-b293-ab484350f943",
   "metadata": {},
   "outputs": [
    {
     "name": "stdout",
     "output_type": "stream",
     "text": [
      "email details:\n",
      "sender: sai@gmail.com\n",
      "recipient: mahi@gmail.com\n",
      "subject: i am your friend\n",
      "status: not sent\n",
      "email sent from sai@gmail.com to mahi@gmail.com\n",
      "subject: i am your friend\n",
      "email details:\n",
      "sender: sai@gmail.com\n",
      "recipient: mahi@gmail.com\n",
      "subject: i am your friend\n",
      "status: sent\n"
     ]
    }
   ],
   "source": [
    "class email:\n",
    "    def __init__(self,sender,recipient,subject):\n",
    "        self.sender=sender\n",
    "        self.recipient=recipient\n",
    "        self.subject=subject\n",
    "        self.sent=False\n",
    "    def send_an_email(self):\n",
    "        print(\"email sent from\",self.sender,\"to\",self.recipient)\n",
    "        print(\"subject:\",self.subject)\n",
    "        self.sent=True\n",
    "    def display_email_details(self):\n",
    "        print(\"email details:\")\n",
    "        print(\"sender:\",self.sender)\n",
    "        print(\"recipient:\",self.recipient)\n",
    "        print(\"subject:\",self.subject)\n",
    "        print(\"status:\",\"sent\" if self.sent else \"not sent\")\n",
    "EE=email(sender=\"sai@gmail.com\",recipient=\"mahi@gmail.com\",subject=\"i am your friend\")\n",
    "EE.display_email_details()\n",
    "EE.send_an_email()\n",
    "EE.display_email_details()"
   ]
  },
  {
   "cell_type": "markdown",
   "id": "f8b5a339-6add-41ed-9932-4a4e7537d273",
   "metadata": {},
   "source": [
    "Problem 9: Social Media Profile\n",
    "\n",
    "Create a class representing a social media profile with attributes like username and posts. Implement methods to add posts, display posts, and search for posts by keyword.\n"
   ]
  },
  {
   "cell_type": "code",
   "execution_count": 58,
   "id": "bd5cc15b-f7db-444b-b4f6-140923465867",
   "metadata": {},
   "outputs": [
    {
     "name": "stdout",
     "output_type": "stream",
     "text": [
      "Posts by mahi\n",
      "Post 1 : Hello, everyone! This is my first post.\n",
      "Post 2 : Just enjoying a beautiful day.\n",
      "Post 3 : Excited about the new project I'm working on!\n",
      "Posts containing the word excited\n",
      "Match 1 : Excited about the new project I'm working on!\n",
      "Posts containing the word beautiful\n",
      "Match 1 : Just enjoying a beautiful day.\n"
     ]
    }
   ],
   "source": [
    "class SocialMediaProfile:\n",
    "    def __init__(self,username):\n",
    "        self.username=username\n",
    "        self.posts=[]\n",
    "    def add_post(self,content):\n",
    "        self.posts.append(content)\n",
    "    def display_posts(self):\n",
    "        if not self.posts:\n",
    "            print(\"No posts available.\")\n",
    "        else:\n",
    "            print(\"Posts by\",self.username)\n",
    "            for index, post in enumerate(self.posts, start=1):\n",
    "                print(\"Post\",index,\":\",post)\n",
    "    def search_posts_by_keyword(self, keyword):\n",
    "        matching_posts = [post for post in self.posts if keyword.lower() in post.lower()]\n",
    "        if not matching_posts:\n",
    "            print(\"No posts found containing\",keyword)\n",
    "        else:\n",
    "            print(\"Posts containing the word\",keyword)\n",
    "            for index, post in enumerate(matching_posts, start=1):\n",
    "                print(\"Match\",index,\":\", post)\n",
    "\n",
    "# Example usage:\n",
    "profile = SocialMediaProfile(username=\"mahi\")\n",
    "profile.add_post(\"Hello, everyone! This is my first post.\")\n",
    "profile.add_post(\"Just enjoying a beautiful day.\")\n",
    "profile.add_post(\"Excited about the new project I'm working on!\")\n",
    "profile.display_posts()\n",
    "profile.search_posts_by_keyword(\"excited\")\n",
    "profile.search_posts_by_keyword(\"beautiful\")"
   ]
  },
  {
   "cell_type": "markdown",
   "id": "5d77b57d-c7c1-42bb-b55f-49071a8082e3",
   "metadata": {},
   "source": [
    "Problem 10: ToDo List \n",
    "\n",
    "Create a class representing a ToDo list with attributes like tasks and due dates. Implement methods to add tasks, mark tasks as completed, and display pending tasks."
   ]
  },
  {
   "cell_type": "code",
   "execution_count": 59,
   "id": "7b099123-0660-4790-9fe9-3fdbd2eb7718",
   "metadata": {},
   "outputs": [
    {
     "name": "stdout",
     "output_type": "stream",
     "text": [
      "Pending Tasks:\n",
      "Task: Complete project proposal - Due Date: 2023-12-20\n",
      "Task: Buy groceries - Due Date: 2023-12-15\n",
      "Task: Prepare presentation - Due Date: 2023-12-18\n",
      "Task 'Buy groceries' marked as completed.\n",
      "Pending Tasks:\n",
      "Task: Complete project proposal - Due Date: 2023-12-20\n",
      "Task: Prepare presentation - Due Date: 2023-12-18\n"
     ]
    }
   ],
   "source": [
    "class ToDoList:\n",
    "    def __init__(self):\n",
    "        self.tasks = {}  # Dictionary to store tasks and their due dates\n",
    "    def add_task(self, task, due_date):\n",
    "        self.tasks[task] = due_date\n",
    "    def mark_task_completed(self, task):\n",
    "        if task in self.tasks:\n",
    "            del self.tasks[task]\n",
    "            print(f\"Task '{task}' marked as completed.\")\n",
    "        else:\n",
    "            print(f\"Task '{task}' not found in the ToDo list.\")\n",
    "    def display_pending_tasks(self):\n",
    "        if not self.tasks:\n",
    "            print(\"No pending tasks.\")\n",
    "        else:\n",
    "            print(\"Pending Tasks:\")\n",
    "            for task, due_date in self.tasks.items():\n",
    "                print(f\"Task: {task} - Due Date: {due_date}\")\n",
    "# Example usage:\n",
    "todo = ToDoList()\n",
    "todo.add_task(\"Complete project proposal\", \"2023-12-20\")\n",
    "todo.add_task(\"Buy groceries\", \"2023-12-15\")\n",
    "todo.add_task(\"Prepare presentation\", \"2023-12-18\")\n",
    "todo.display_pending_tasks()\n",
    "todo.mark_task_completed(\"Buy groceries\")\n",
    "todo.display_pending_tasks()"
   ]
  },
  {
   "cell_type": "code",
   "execution_count": null,
   "id": "937f1abb-0f31-4ef0-a9ed-b63845ef779a",
   "metadata": {},
   "outputs": [],
   "source": []
  }
 ],
 "metadata": {
  "kernelspec": {
   "display_name": "Python 3 (ipykernel)",
   "language": "python",
   "name": "python3"
  },
  "language_info": {
   "codemirror_mode": {
    "name": "ipython",
    "version": 3
   },
   "file_extension": ".py",
   "mimetype": "text/x-python",
   "name": "python",
   "nbconvert_exporter": "python",
   "pygments_lexer": "ipython3",
   "version": "3.10.8"
  }
 },
 "nbformat": 4,
 "nbformat_minor": 5
}
